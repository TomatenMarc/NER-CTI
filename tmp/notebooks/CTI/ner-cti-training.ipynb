{
 "cells": [
  {
   "cell_type": "code",
   "execution_count": 1,
   "outputs": [
    {
     "name": "stderr",
     "output_type": "stream",
     "text": [
      "2023-03-05 13:43:00.464054: I tensorflow/core/platform/cpu_feature_guard.cc:193] This TensorFlow binary is optimized with oneAPI Deep Neural Network Library (oneDNN) to use the following CPU instructions in performance-critical operations:  AVX2 FMA\n",
      "To enable them in other operations, rebuild TensorFlow with the appropriate compiler flags.\n"
     ]
    }
   ],
   "source": [
    "import spacy"
   ],
   "metadata": {
    "collapsed": false,
    "pycharm": {
     "name": "#%%\n"
    }
   }
  },
  {
   "cell_type": "code",
   "execution_count": 2,
   "outputs": [
    {
     "name": "stdout",
     "output_type": "stream",
     "text": [
      "2023-03-05 13:43:06.961530: I tensorflow/core/platform/cpu_feature_guard.cc:193] This TensorFlow binary is optimized with oneAPI Deep Neural Network Library (oneDNN) to use the following CPU instructions in performance-critical operations:  AVX2 FMA\r\n",
      "To enable them in other operations, rebuild TensorFlow with the appropriate compiler flags.\r\n",
      "\u001B[2K\u001B[38;5;2m✔ Loaded compatibility table\u001B[0m\r\n",
      "\u001B[1m\r\n",
      "================= Installed pipeline packages (spaCy v3.5.0) =================\u001B[0m\r\n",
      "\u001B[38;5;4mℹ spaCy installation:\r\n",
      "/Users/marcfeger/Library/Caches/pypoetry/virtualenvs/cir-xscWUHpY-py3.10/lib/python3.10/site-packages/spacy\u001B[0m\r\n",
      "\r\n",
      "NAME              SPACY            VERSION                            \r\n",
      "en_core_web_lg    >=3.5.0,<3.6.0   \u001B[38;5;2m3.5.0\u001B[0m   \u001B[38;5;2m✔\u001B[0m\r\n",
      "en_core_web_trf   >=3.5.0,<3.6.0   \u001B[38;5;2m3.5.0\u001B[0m   \u001B[38;5;2m✔\u001B[0m\r\n",
      "en_core_web_sm    >=3.5.0,<3.6.0   \u001B[38;5;2m3.5.0\u001B[0m   \u001B[38;5;2m✔\u001B[0m\r\n",
      "en_core_web_md    >=3.5.0,<3.6.0   \u001B[38;5;2m3.5.0\u001B[0m   \u001B[38;5;2m✔\u001B[0m\r\n",
      "\r\n"
     ]
    }
   ],
   "source": [
    "!python -m spacy validate"
   ],
   "metadata": {
    "collapsed": false,
    "pycharm": {
     "name": "#%%\n"
    }
   }
  },
  {
   "cell_type": "code",
   "execution_count": 72,
   "outputs": [
    {
     "name": "stdout",
     "output_type": "stream",
     "text": [
      "2023-03-04 19:06:59.300235: I tensorflow/core/platform/cpu_feature_guard.cc:193] This TensorFlow binary is optimized with oneAPI Deep Neural Network Library (oneDNN) to use the following CPU instructions in performance-critical operations:  AVX2 FMA\r\n",
      "To enable them in other operations, rebuild TensorFlow with the appropriate compiler flags.\r\n",
      "\u001B[38;5;2m✔ Auto-filled config with all values\u001B[0m\r\n",
      "\u001B[38;5;2m✔ Saved config\u001B[0m\r\n",
      "conf/config.cfg\r\n",
      "You can now add your data and train your pipeline:\r\n",
      "python -m spacy train config.cfg --paths.train ./train.spacy --paths.dev ./dev.spacy\r\n"
     ]
    }
   ],
   "source": [
    "!python -m spacy init fill-config ./conf/base_config.cfg ./conf/config.cfg"
   ],
   "metadata": {
    "collapsed": false,
    "pycharm": {
     "name": "#%%\n"
    }
   }
  },
  {
   "cell_type": "code",
   "execution_count": 71,
   "outputs": [
    {
     "name": "stdout",
     "output_type": "stream",
     "text": [
      "2023-03-04 19:06:19.781769: I tensorflow/core/platform/cpu_feature_guard.cc:193] This TensorFlow binary is optimized with oneAPI Deep Neural Network Library (oneDNN) to use the following CPU instructions in performance-critical operations:  AVX2 FMA\r\n",
      "To enable them in other operations, rebuild TensorFlow with the appropriate compiler flags.\r\n",
      "\u001B[38;5;4mℹ Grouping every 1 sentences into a document.\u001B[0m\r\n",
      "\u001B[38;5;3m⚠ To generate better training data, you may want to group sentences\r\n",
      "into documents with `-n 10`.\u001B[0m\r\n",
      "\u001B[38;5;2m✔ Generated output file (2811 documents): train.spacy\u001B[0m\r\n",
      "2023-03-04 19:06:28.461101: I tensorflow/core/platform/cpu_feature_guard.cc:193] This TensorFlow binary is optimized with oneAPI Deep Neural Network Library (oneDNN) to use the following CPU instructions in performance-critical operations:  AVX2 FMA\r\n",
      "To enable them in other operations, rebuild TensorFlow with the appropriate compiler flags.\r\n",
      "\u001B[38;5;4mℹ Grouping every 1 sentences into a document.\u001B[0m\r\n",
      "\u001B[38;5;3m⚠ To generate better training data, you may want to group sentences\r\n",
      "into documents with `-n 10`.\u001B[0m\r\n",
      "\u001B[38;5;2m✔ Generated output file (813 documents): valid.spacy\u001B[0m\r\n",
      "2023-03-04 19:06:35.992750: I tensorflow/core/platform/cpu_feature_guard.cc:193] This TensorFlow binary is optimized with oneAPI Deep Neural Network Library (oneDNN) to use the following CPU instructions in performance-critical operations:  AVX2 FMA\r\n",
      "To enable them in other operations, rebuild TensorFlow with the appropriate compiler flags.\r\n",
      "\u001B[38;5;4mℹ Grouping every 1 sentences into a document.\u001B[0m\r\n",
      "\u001B[38;5;3m⚠ To generate better training data, you may want to group sentences\r\n",
      "into documents with `-n 10`.\u001B[0m\r\n",
      "\u001B[38;5;2m✔ Generated output file (748 documents): test.spacy\u001B[0m\r\n"
     ]
    }
   ],
   "source": [
    "!python -m spacy convert ../../data/CyNER/train.txt ./ --file-type spacy --converter conll --merge-subtokens\n",
    "!python -m spacy convert ../../data/CyNER/valid.txt ./ --file-type spacy --converter conll --merge-subtokens\n",
    "!python -m spacy convert ../../data/CyNER/test.txt ./ --file-type spacy --converter conll --merge-subtokens"
   ],
   "metadata": {
    "collapsed": false,
    "pycharm": {
     "name": "#%%\n"
    }
   }
  },
  {
   "cell_type": "code",
   "execution_count": 60,
   "outputs": [
    {
     "name": "stdout",
     "output_type": "stream",
     "text": [
      "2023-03-04 18:33:31.037811: I tensorflow/core/platform/cpu_feature_guard.cc:193] This TensorFlow binary is optimized with oneAPI Deep Neural Network Library (oneDNN) to use the following CPU instructions in performance-critical operations:  AVX2 FMA\r\n",
      "To enable them in other operations, rebuild TensorFlow with the appropriate compiler flags.\r\n",
      "Usage: python -m spacy init labels [OPTIONS] CONFIG_PATH OUTPUT_PATH\r\n",
      "\r\n",
      "  Generate JSON files for the labels in the data. This helps speed up the\r\n",
      "  training process, since spaCy won't have to preprocess the data to extract\r\n",
      "  the labels.\r\n",
      "\r\n",
      "Arguments:\r\n",
      "  CONFIG_PATH  Path to config file  [required]\r\n",
      "  OUTPUT_PATH  Output directory for the labels  [required]\r\n",
      "\r\n",
      "Options:\r\n",
      "  -c, --code PATH       Path to Python file with additional code (registered\r\n",
      "                        functions) to be imported\r\n",
      "  -V, -VV, --verbose    Display more information for debugging purposes\r\n",
      "  -g, --gpu-id INTEGER  GPU ID or -1 for CPU  [default: -1]\r\n",
      "  --help                Show this message and exit.\r\n"
     ]
    }
   ],
   "source": [
    "!python -m spacy init labels --help"
   ],
   "metadata": {
    "collapsed": false,
    "pycharm": {
     "name": "#%%\n"
    }
   }
  },
  {
   "cell_type": "code",
   "execution_count": 3,
   "outputs": [
    {
     "name": "stdout",
     "output_type": "stream",
     "text": [
      "2023-03-05 13:43:15.894202: I tensorflow/core/platform/cpu_feature_guard.cc:193] This TensorFlow binary is optimized with oneAPI Deep Neural Network Library (oneDNN) to use the following CPU instructions in performance-critical operations:  AVX2 FMA\r\n",
      "To enable them in other operations, rebuild TensorFlow with the appropriate compiler flags.\r\n",
      "\u001B[38;5;4mℹ Saving to output directory: models\u001B[0m\r\n",
      "\u001B[38;5;4mℹ Using GPU: 0\u001B[0m\r\n",
      "\u001B[1m\r\n",
      "=========================== Initializing pipeline ===========================\u001B[0m\r\n",
      "[2023-03-05 13:43:21,540] [INFO] Set up nlp object from config\r\n",
      "[2023-03-05 13:43:21,555] [INFO] Pipeline: ['tok2vec', 'ner']\r\n",
      "[2023-03-05 13:43:21,559] [INFO] Created vocabulary\r\n",
      "[2023-03-05 13:43:23,117] [INFO] Added vectors: en_core_web_md\r\n",
      "[2023-03-05 13:43:23,226] [INFO] Finished initializing nlp object\r\n",
      "[2023-03-05 13:43:27,175] [INFO] Initialized pipeline components: ['tok2vec', 'ner']\r\n",
      "\u001B[38;5;2m✔ Initialized pipeline\u001B[0m\r\n",
      "\u001B[1m\r\n",
      "============================= Training pipeline =============================\u001B[0m\r\n",
      "\u001B[38;5;4mℹ Pipeline: ['tok2vec', 'ner']\u001B[0m\r\n",
      "\u001B[38;5;4mℹ Initial learn rate: 0.0001\u001B[0m\r\n",
      "E    #       LOSS TOK2VEC  LOSS NER  ENTS_F  ENTS_P  ENTS_R  SCORE \r\n",
      "---  ------  ------------  --------  ------  ------  ------  ------\r\n",
      "  0       0          0.00     50.55    0.00    0.00    0.00    0.00\r\n",
      "  0     200         41.86   5780.79    0.00    0.00    0.00    0.00\r\n",
      "  0     400         55.05   1728.17    0.00    0.00    0.00    0.00\r\n",
      "  1     600         81.04   1978.18   20.20   45.13   13.01    0.20\r\n",
      "  1     800        121.15   2019.45   23.08   39.38   16.33    0.22\r\n",
      "  2    1000        451.42   2192.90   32.74   48.86   24.62    0.32\r\n",
      "  3    1200        219.30   2449.47   37.27   52.30   28.95    0.36\r\n",
      "  4    1400        250.46   2357.94   43.94   54.10   36.99    0.43\r\n",
      "  5    1600        320.99   2472.90   43.65   59.60   34.44    0.42\r\n",
      "  6    1800        374.31   2728.29   47.73   61.74   38.90    0.46\r\n",
      "  8    2000        717.05   2839.27   49.44   65.61   39.67    0.48\r\n",
      " 11    2200        449.71   3039.54   51.57   66.87   41.96    0.50\r\n",
      " 13    2400        566.15   3324.29   51.25   65.80   41.96    0.49\r\n",
      " 16    2600        569.10   2994.03   51.82   66.14   42.60    0.50\r\n",
      " 19    2800        563.66   2677.77   52.13   66.53   42.86    0.50\r\n",
      " 22    3000        505.65   2477.27   52.94   68.56   43.11    0.51\r\n",
      " 25    3200        557.42   2201.64   53.47   68.74   43.75    0.52\r\n",
      " 28    3400        535.34   2048.99   52.76   67.66   43.24    0.51\r\n",
      " 31    3600        552.56   1856.65   53.03   67.93   43.49    0.51\r\n",
      " 33    3800        531.43   1714.75   53.74   69.00   44.01    0.52\r\n",
      " 36    4000       3315.26   1641.21   52.77   68.01   43.11    0.51\r\n",
      " 39    4200        581.58   1484.96   51.50   67.28   41.71    0.50\r\n",
      " 42    4400        517.66   1407.64   51.55   65.55   42.47    0.50\r\n",
      "Unexpected exception formatting exception. Falling back to standard exception\n"
     ]
    },
    {
     "name": "stderr",
     "output_type": "stream",
     "text": [
      "Traceback (most recent call last):\n",
      "  File \"/Users/marcfeger/Library/Caches/pypoetry/virtualenvs/cir-xscWUHpY-py3.10/lib/python3.10/site-packages/IPython/utils/_process_posix.py\", line 153, in system\n",
      "  File \"/Users/marcfeger/Library/Caches/pypoetry/virtualenvs/cir-xscWUHpY-py3.10/lib/python3.10/site-packages/pexpect/spawnbase.py\", line 372, in expect_list\n",
      "  File \"/Users/marcfeger/Library/Caches/pypoetry/virtualenvs/cir-xscWUHpY-py3.10/lib/python3.10/site-packages/pexpect/expect.py\", line 169, in expect_loop\n",
      "  File \"/Users/marcfeger/Library/Caches/pypoetry/virtualenvs/cir-xscWUHpY-py3.10/lib/python3.10/site-packages/pexpect/pty_spawn.py\", line 500, in read_nonblocking\n",
      "  File \"/Users/marcfeger/Library/Caches/pypoetry/virtualenvs/cir-xscWUHpY-py3.10/lib/python3.10/site-packages/pexpect/pty_spawn.py\", line 450, in select\n",
      "  File \"/Users/marcfeger/Library/Caches/pypoetry/virtualenvs/cir-xscWUHpY-py3.10/lib/python3.10/site-packages/pexpect/utils.py\", line 143, in select_ignore_interrupts\n",
      "KeyboardInterrupt\n",
      "\n",
      "During handling of the above exception, another exception occurred:\n",
      "\n",
      "Traceback (most recent call last):\n",
      "  File \"/Users/marcfeger/Library/Caches/pypoetry/virtualenvs/cir-xscWUHpY-py3.10/lib/python3.10/site-packages/IPython/core/interactiveshell.py\", line 3460, in run_code\n",
      "  File \"/var/folders/lb/j75pd21j7wgcn4tnbz4n_sy80000gn/T/ipykernel_1475/728429340.py\", line 1, in <module>\n",
      "    get_ipython().system('python -m spacy train ./conf/config.cfg --output ./models --paths.train ./train.spacy --paths.dev ./valid.spacy --gpu-id 0')\n",
      "  File \"/Users/marcfeger/Library/Caches/pypoetry/virtualenvs/cir-xscWUHpY-py3.10/lib/python3.10/site-packages/ipykernel/zmqshell.py\", line 649, in system_piped\n",
      "  File \"/Users/marcfeger/Library/Caches/pypoetry/virtualenvs/cir-xscWUHpY-py3.10/lib/python3.10/site-packages/IPython/utils/_process_posix.py\", line 164, in system\n",
      "  File \"/Users/marcfeger/Library/Caches/pypoetry/virtualenvs/cir-xscWUHpY-py3.10/lib/python3.10/site-packages/pexpect/pty_spawn.py\", line 578, in sendline\n",
      "  File \"/Users/marcfeger/Library/Caches/pypoetry/virtualenvs/cir-xscWUHpY-py3.10/lib/python3.10/site-packages/pexpect/pty_spawn.py\", line 563, in send\n",
      "KeyboardInterrupt\n",
      "\n",
      "During handling of the above exception, another exception occurred:\n",
      "\n",
      "Traceback (most recent call last):\n",
      "  File \"/Users/marcfeger/Library/Caches/pypoetry/virtualenvs/cir-xscWUHpY-py3.10/lib/python3.10/site-packages/pygments/styles/__init__.py\", line 82, in get_style_by_name\n",
      "ModuleNotFoundError: No module named 'pygments.styles.default'\n",
      "\n",
      "During handling of the above exception, another exception occurred:\n",
      "\n",
      "Traceback (most recent call last):\n",
      "  File \"/Users/marcfeger/Library/Caches/pypoetry/virtualenvs/cir-xscWUHpY-py3.10/lib/python3.10/site-packages/IPython/core/interactiveshell.py\", line 2057, in showtraceback\n",
      "  File \"/Users/marcfeger/Library/Caches/pypoetry/virtualenvs/cir-xscWUHpY-py3.10/lib/python3.10/site-packages/IPython/core/ultratb.py\", line 1118, in structured_traceback\n",
      "  File \"/Users/marcfeger/Library/Caches/pypoetry/virtualenvs/cir-xscWUHpY-py3.10/lib/python3.10/site-packages/IPython/core/ultratb.py\", line 1012, in structured_traceback\n",
      "  File \"/Users/marcfeger/Library/Caches/pypoetry/virtualenvs/cir-xscWUHpY-py3.10/lib/python3.10/site-packages/IPython/core/ultratb.py\", line 865, in structured_traceback\n",
      "  File \"/Users/marcfeger/Library/Caches/pypoetry/virtualenvs/cir-xscWUHpY-py3.10/lib/python3.10/site-packages/IPython/core/ultratb.py\", line 799, in format_exception_as_a_whole\n",
      "  File \"/Users/marcfeger/Library/Caches/pypoetry/virtualenvs/cir-xscWUHpY-py3.10/lib/python3.10/site-packages/IPython/core/ultratb.py\", line 844, in get_records\n",
      "  File \"/Users/marcfeger/Library/Caches/pypoetry/virtualenvs/cir-xscWUHpY-py3.10/lib/python3.10/site-packages/pygments/styles/__init__.py\", line 84, in get_style_by_name\n",
      "pygments.util.ClassNotFound: Could not find style module 'default', though it should be builtin.\n"
     ]
    }
   ],
   "source": [
    "!python -m spacy train ./conf/config.cfg --output ./models --paths.train ./train.spacy --paths.dev ./valid.spacy --gpu-id 0"
   ],
   "metadata": {
    "collapsed": false,
    "pycharm": {
     "name": "#%%\n"
    }
   }
  },
  {
   "cell_type": "code",
   "execution_count": 39,
   "outputs": [
    {
     "name": "stdout",
     "output_type": "stream",
     "text": [
      "{'lang': 'en', 'name': 'pipeline', 'version': '0.0.0', 'spacy_version': '>=3.5.0,<3.6.0', 'description': '', 'author': '', 'email': '', 'url': '', 'license': '', 'spacy_git_version': 'dec81508d', 'vectors': {'width': 0, 'vectors': 0, 'keys': 0, 'name': None, 'mode': 'default'}, 'labels': {'tok2vec': [], 'ner': ['Indicator', 'Malware', 'Organization', 'System', 'Vulnerability']}, 'pipeline': ['tok2vec', 'ner'], 'components': ['tok2vec', 'ner'], 'disabled': [], 'performance': {'ents_f': 0.5605483625000001, 'ents_p': 0.6956521739, 'ents_r': 0.4693877551, 'ents_per_type': {'Malware': {'p': 0.4444444444, 'r': 0.0472440945, 'f': 0.08540925270000001}, 'Indicator': {'p': 0.70703125, 'r': 0.7327935223, 'f': 0.7196819085}, 'System': {'p': 0.7345679012, 'r': 0.6538461538, 'f': 0.6918604651}, 'Organization': {'p': 0.7042253521, 'r': 0.5434782609000001, 'f': 0.6134969325}, 'Vulnerability': {'p': 0.4615384615, 'r': 0.6666666667000001, 'f': 0.5454545455}}, 'tok2vec_loss': 739.2162684213, 'ner_loss': 115.7838447969}}\n"
     ]
    },
    {
     "data": {
      "text/plain": "<IPython.core.display.HTML object>",
      "text/html": "<span class=\"tex2jax_ignore\"><div class=\"entities\" style=\"line-height: 2.5; direction: ltr\">\n<mark class=\"entity\" style=\"background: #FFFFFF; padding: 0.45em 0.6em; margin: 0 0.25em; line-height: 1; border-radius: 0.35em;\">\n    Kaspersky Labs\n    <span style=\"font-size: 0.8em; font-weight: bold; line-height: 1; border-radius: 0.35em; vertical-align: middle; margin-left: 0.5rem\">Organization</span>\n</mark>\n free-vpn uses VPN for \n<mark class=\"entity\" style=\"background: #F67DE3; padding: 0.45em 0.6em; margin: 0 0.25em; line-height: 1; border-radius: 0.35em;\">\n    Red Alert Trojan\n    <span style=\"font-size: 0.8em; font-weight: bold; line-height: 1; border-radius: 0.35em; vertical-align: middle; margin-left: 0.5rem\">Malware</span>\n</mark>\n \n<mark class=\"entity\" style=\"background: #ddd; padding: 0.45em 0.6em; margin: 0 0.25em; line-height: 1; border-radius: 0.35em;\">\n    48a7dd672931e408662d2b5e1abcd6ef00097b8ffe3814f0d2799dd6fd74bd88\n    <span style=\"font-size: 0.8em; font-weight: bold; line-height: 1; border-radius: 0.35em; vertical-align: middle; margin-left: 0.5rem\">Indicator</span>\n</mark>\n</div></span>"
     },
     "metadata": {},
     "output_type": "display_data"
    }
   ],
   "source": [
    "nlp_ner = spacy.load(\"./models/model-best\")\n",
    "\n",
    "print(nlp_ner.meta)\n",
    "\n",
    "doc = nlp_ner(\"Kaspersky Labs free-vpn uses VPN for Red Alert Trojan 48a7dd672931e408662d2b5e1abcd6ef00097b8ffe3814f0d2799dd6fd74bd88\")\n",
    "\n",
    "colors = {\"Malware\": \"#F67DE3\", \"Organization\": \"#7DF6D9\", \"Organization\":\"#FFFFFF\"}\n",
    "options = {\"colors\": colors}\n",
    "\n",
    "spacy.displacy.render(doc, style=\"ent\", options=options, jupyter=True)"
   ],
   "metadata": {
    "collapsed": false,
    "pycharm": {
     "name": "#%%\n"
    }
   }
  },
  {
   "cell_type": "code",
   "execution_count": null,
   "outputs": [],
   "source": [],
   "metadata": {
    "collapsed": false,
    "pycharm": {
     "name": "#%%\n"
    }
   }
  },
  {
   "cell_type": "code",
   "execution_count": null,
   "outputs": [],
   "source": [
    "[initialize.lookups]\n",
    "  @misc = \"spacy.LookupsDataLoader.v1\"\n",
    "  lang = ${nlp.lang}\n",
    "  tables = [\"lexeme_norm\"]"
   ],
   "metadata": {
    "collapsed": false,
    "pycharm": {
     "name": "#%%\n"
    }
   }
  }
 ],
 "metadata": {
  "kernelspec": {
   "display_name": "Python 3",
   "language": "python",
   "name": "python3"
  },
  "language_info": {
   "codemirror_mode": {
    "name": "ipython",
    "version": 2
   },
   "file_extension": ".py",
   "mimetype": "text/x-python",
   "name": "python",
   "nbconvert_exporter": "python",
   "pygments_lexer": "ipython2",
   "version": "2.7.6"
  }
 },
 "nbformat": 4,
 "nbformat_minor": 0
}