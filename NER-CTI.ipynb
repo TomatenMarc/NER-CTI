{
 "cells": [
  {
   "cell_type": "markdown",
   "source": [
    "# Preparation"
   ],
   "metadata": {
    "id": "ZdE1chGoSGdC",
    "pycharm": {
     "name": "#%% md\n"
    }
   }
  },
  {
   "cell_type": "code",
   "source": [
    "from google.colab import drive\n",
    "drive.mount('/content/drive')\n",
    "%cd /content/drive/MyDrive/Colab Notebooks/Feger/NER-CTI"
   ],
   "metadata": {
    "colab": {
     "base_uri": "https://localhost:8080/"
    },
    "id": "e_mno9pMUxSd",
    "executionInfo": {
     "status": "ok",
     "timestamp": 1678133881568,
     "user_tz": -60,
     "elapsed": 38879,
     "user": {
      "displayName": "Computer Networks HHU",
      "userId": "05668673963966344466"
     }
    },
    "outputId": "de04b102-eceb-40d0-e9bc-7444cdd1c637",
    "pycharm": {
     "name": "#%%\n"
    }
   },
   "execution_count": 1,
   "outputs": [
    {
     "output_type": "stream",
     "name": "stdout",
     "text": [
      "Mounted at /content/drive\n",
      "/content/drive/MyDrive/Colab Notebooks/Feger/NER-CTI\n"
     ]
    }
   ]
  },
  {
   "cell_type": "code",
   "source": [
    "import os\n",
    "os.environ['TF_CPP_MIN_LOG_LEVEL'] = '3' \n",
    "import tensorflow as tf"
   ],
   "metadata": {
    "id": "Dl5K1ZBJWDW2",
    "executionInfo": {
     "status": "ok",
     "timestamp": 1678133885558,
     "user_tz": -60,
     "elapsed": 3996,
     "user": {
      "displayName": "Computer Networks HHU",
      "userId": "05668673963966344466"
     }
    },
    "pycharm": {
     "name": "#%%\n"
    }
   },
   "execution_count": 2,
   "outputs": []
  },
  {
   "cell_type": "code",
   "execution_count": 3,
   "metadata": {
    "collapsed": true,
    "pycharm": {
     "name": "#%%\n"
    },
    "id": "qhLKtUnzR5c9",
    "colab": {
     "base_uri": "https://localhost:8080/"
    },
    "executionInfo": {
     "status": "ok",
     "timestamp": 1678134157752,
     "user_tz": -60,
     "elapsed": 272198,
     "user": {
      "displayName": "Computer Networks HHU",
      "userId": "05668673963966344466"
     }
    },
    "outputId": "b59d7984-ec39-4ff5-92fb-154e0bd736a9"
   },
   "outputs": [
    {
     "output_type": "stream",
     "name": "stdout",
     "text": [
      "Looking in indexes: https://pypi.org/simple, https://us-python.pkg.dev/colab-wheels/public/simple/\n",
      "Requirement already satisfied: pip in /usr/local/lib/python3.8/dist-packages (22.0.4)\n",
      "Collecting pip\n",
      "  Downloading pip-23.0.1-py3-none-any.whl (2.1 MB)\n",
      "\u001B[2K     \u001B[90m━━━━━━━━━━━━━━━━━━━━━━━━━━━━━━━━━━━━━━━━\u001B[0m \u001B[32m2.1/2.1 MB\u001B[0m \u001B[31m68.9 MB/s\u001B[0m eta \u001B[36m0:00:00\u001B[0m\n",
      "\u001B[?25hRequirement already satisfied: setuptools in /usr/local/lib/python3.8/dist-packages (57.4.0)\n",
      "Collecting setuptools\n",
      "  Downloading setuptools-67.5.1-py3-none-any.whl (1.1 MB)\n",
      "\u001B[2K     \u001B[90m━━━━━━━━━━━━━━━━━━━━━━━━━━━━━━━━━━━━━━━━\u001B[0m \u001B[32m1.1/1.1 MB\u001B[0m \u001B[31m68.8 MB/s\u001B[0m eta \u001B[36m0:00:00\u001B[0m\n",
      "\u001B[?25hRequirement already satisfied: wheel in /usr/local/lib/python3.8/dist-packages (0.38.4)\n",
      "Installing collected packages: setuptools, pip\n",
      "  Attempting uninstall: setuptools\n",
      "    Found existing installation: setuptools 57.4.0\n",
      "    Uninstalling setuptools-57.4.0:\n",
      "      Successfully uninstalled setuptools-57.4.0\n",
      "  Attempting uninstall: pip\n",
      "    Found existing installation: pip 22.0.4\n",
      "    Uninstalling pip-22.0.4:\n",
      "      Successfully uninstalled pip-22.0.4\n",
      "\u001B[31mERROR: pip's dependency resolver does not currently take into account all the packages that are installed. This behaviour is the source of the following dependency conflicts.\n",
      "ipython 7.9.0 requires jedi>=0.10, which is not installed.\n",
      "cvxpy 1.2.3 requires setuptools<=64.0.2, but you have setuptools 67.5.1 which is incompatible.\u001B[0m\u001B[31m\n",
      "\u001B[0mSuccessfully installed pip-23.0.1 setuptools-67.5.1\n",
      "Looking in indexes: https://pypi.org/simple, https://us-python.pkg.dev/colab-wheels/public/simple/\n",
      "Requirement already satisfied: spacy[cuda-autodetect,lookups,transformers] in /usr/local/lib/python3.8/dist-packages (3.4.4)\n",
      "Collecting spacy[cuda-autodetect,lookups,transformers]\n",
      "  Downloading spacy-3.5.0-cp38-cp38-manylinux_2_17_x86_64.manylinux2014_x86_64.whl (6.7 MB)\n",
      "\u001B[2K     \u001B[90m━━━━━━━━━━━━━━━━━━━━━━━━━━━━━━━━━━━━━━━━\u001B[0m \u001B[32m6.7/6.7 MB\u001B[0m \u001B[31m58.7 MB/s\u001B[0m eta \u001B[36m0:00:00\u001B[0m\n",
      "\u001B[?25hRequirement already satisfied: setuptools in /usr/local/lib/python3.8/dist-packages (from spacy[cuda-autodetect,lookups,transformers]) (67.5.1)\n",
      "Requirement already satisfied: spacy-loggers<2.0.0,>=1.0.0 in /usr/local/lib/python3.8/dist-packages (from spacy[cuda-autodetect,lookups,transformers]) (1.0.4)\n",
      "Requirement already satisfied: smart-open<7.0.0,>=5.2.1 in /usr/local/lib/python3.8/dist-packages (from spacy[cuda-autodetect,lookups,transformers]) (6.3.0)\n",
      "Requirement already satisfied: wasabi<1.2.0,>=0.9.1 in /usr/local/lib/python3.8/dist-packages (from spacy[cuda-autodetect,lookups,transformers]) (0.10.1)\n",
      "Requirement already satisfied: numpy>=1.15.0 in /usr/local/lib/python3.8/dist-packages (from spacy[cuda-autodetect,lookups,transformers]) (1.22.4)\n",
      "Requirement already satisfied: thinc<8.2.0,>=8.1.0 in /usr/local/lib/python3.8/dist-packages (from spacy[cuda-autodetect,lookups,transformers]) (8.1.7)\n",
      "Requirement already satisfied: preshed<3.1.0,>=3.0.2 in /usr/local/lib/python3.8/dist-packages (from spacy[cuda-autodetect,lookups,transformers]) (3.0.8)\n",
      "Requirement already satisfied: pydantic!=1.8,!=1.8.1,<1.11.0,>=1.7.4 in /usr/local/lib/python3.8/dist-packages (from spacy[cuda-autodetect,lookups,transformers]) (1.10.5)\n",
      "Requirement already satisfied: murmurhash<1.1.0,>=0.28.0 in /usr/local/lib/python3.8/dist-packages (from spacy[cuda-autodetect,lookups,transformers]) (1.0.9)\n",
      "Requirement already satisfied: jinja2 in /usr/local/lib/python3.8/dist-packages (from spacy[cuda-autodetect,lookups,transformers]) (3.1.2)\n",
      "Requirement already satisfied: pathy>=0.10.0 in /usr/local/lib/python3.8/dist-packages (from spacy[cuda-autodetect,lookups,transformers]) (0.10.1)\n",
      "Requirement already satisfied: packaging>=20.0 in /usr/local/lib/python3.8/dist-packages (from spacy[cuda-autodetect,lookups,transformers]) (23.0)\n",
      "Requirement already satisfied: catalogue<2.1.0,>=2.0.6 in /usr/local/lib/python3.8/dist-packages (from spacy[cuda-autodetect,lookups,transformers]) (2.0.8)\n",
      "Requirement already satisfied: tqdm<5.0.0,>=4.38.0 in /usr/local/lib/python3.8/dist-packages (from spacy[cuda-autodetect,lookups,transformers]) (4.64.1)\n",
      "Requirement already satisfied: langcodes<4.0.0,>=3.2.0 in /usr/local/lib/python3.8/dist-packages (from spacy[cuda-autodetect,lookups,transformers]) (3.3.0)\n",
      "Requirement already satisfied: srsly<3.0.0,>=2.4.3 in /usr/local/lib/python3.8/dist-packages (from spacy[cuda-autodetect,lookups,transformers]) (2.4.6)\n",
      "Requirement already satisfied: spacy-legacy<3.1.0,>=3.0.11 in /usr/local/lib/python3.8/dist-packages (from spacy[cuda-autodetect,lookups,transformers]) (3.0.12)\n",
      "Requirement already satisfied: cymem<2.1.0,>=2.0.2 in /usr/local/lib/python3.8/dist-packages (from spacy[cuda-autodetect,lookups,transformers]) (2.0.7)\n",
      "Requirement already satisfied: requests<3.0.0,>=2.13.0 in /usr/local/lib/python3.8/dist-packages (from spacy[cuda-autodetect,lookups,transformers]) (2.25.1)\n",
      "Requirement already satisfied: typer<0.8.0,>=0.3.0 in /usr/local/lib/python3.8/dist-packages (from spacy[cuda-autodetect,lookups,transformers]) (0.7.0)\n",
      "Collecting spacy-lookups-data<1.1.0,>=1.0.3\n",
      "  Downloading spacy_lookups_data-1.0.3-py2.py3-none-any.whl (98.5 MB)\n",
      "\u001B[2K     \u001B[90m━━━━━━━━━━━━━━━━━━━━━━━━━━━━━━━━━━━━━━━━\u001B[0m \u001B[32m98.5/98.5 MB\u001B[0m \u001B[31m9.5 MB/s\u001B[0m eta \u001B[36m0:00:00\u001B[0m\n",
      "\u001B[?25hCollecting spacy-transformers<1.3.0,>=1.1.2\n",
      "  Downloading spacy_transformers-1.2.2-cp38-cp38-manylinux_2_17_x86_64.manylinux2014_x86_64.whl (194 kB)\n",
      "\u001B[2K     \u001B[90m━━━━━━━━━━━━━━━━━━━━━━━━━━━━━━━━━━━━━━\u001B[0m \u001B[32m194.6/194.6 kB\u001B[0m \u001B[31m24.3 MB/s\u001B[0m eta \u001B[36m0:00:00\u001B[0m\n",
      "\u001B[?25hCollecting cupy-wheel<12.0.0,>=11.0.0\n",
      "  Downloading cupy-wheel-11.6.0.tar.gz (3.1 kB)\n",
      "  Preparing metadata (setup.py) ... \u001B[?25l\u001B[?25hdone\n",
      "Collecting cupy-cuda11x==11.6.0\n",
      "  Downloading cupy_cuda11x-11.6.0-cp38-cp38-manylinux1_x86_64.whl (93.7 MB)\n",
      "\u001B[2K     \u001B[90m━━━━━━━━━━━━━━━━━━━━━━━━━━━━━━━━━━━━━━━━\u001B[0m \u001B[32m93.7/93.7 MB\u001B[0m \u001B[31m10.0 MB/s\u001B[0m eta \u001B[36m0:00:00\u001B[0m\n",
      "\u001B[?25hRequirement already satisfied: fastrlock>=0.5 in /usr/local/lib/python3.8/dist-packages (from cupy-cuda11x==11.6.0->cupy-wheel<12.0.0,>=11.0.0->spacy[cuda-autodetect,lookups,transformers]) (0.8.1)\n",
      "Requirement already satisfied: typing-extensions>=4.2.0 in /usr/local/lib/python3.8/dist-packages (from pydantic!=1.8,!=1.8.1,<1.11.0,>=1.7.4->spacy[cuda-autodetect,lookups,transformers]) (4.5.0)\n",
      "Requirement already satisfied: idna<3,>=2.5 in /usr/local/lib/python3.8/dist-packages (from requests<3.0.0,>=2.13.0->spacy[cuda-autodetect,lookups,transformers]) (2.10)\n",
      "Requirement already satisfied: certifi>=2017.4.17 in /usr/local/lib/python3.8/dist-packages (from requests<3.0.0,>=2.13.0->spacy[cuda-autodetect,lookups,transformers]) (2022.12.7)\n",
      "Requirement already satisfied: chardet<5,>=3.0.2 in /usr/local/lib/python3.8/dist-packages (from requests<3.0.0,>=2.13.0->spacy[cuda-autodetect,lookups,transformers]) (4.0.0)\n",
      "Requirement already satisfied: urllib3<1.27,>=1.21.1 in /usr/local/lib/python3.8/dist-packages (from requests<3.0.0,>=2.13.0->spacy[cuda-autodetect,lookups,transformers]) (1.26.14)\n",
      "Collecting transformers<4.27.0,>=3.4.0\n",
      "  Downloading transformers-4.26.1-py3-none-any.whl (6.3 MB)\n",
      "\u001B[2K     \u001B[90m━━━━━━━━━━━━━━━━━━━━━━━━━━━━━━━━━━━━━━━━\u001B[0m \u001B[32m6.3/6.3 MB\u001B[0m \u001B[31m109.5 MB/s\u001B[0m eta \u001B[36m0:00:00\u001B[0m\n",
      "\u001B[?25hCollecting spacy-alignments<1.0.0,>=0.7.2\n",
      "  Downloading spacy_alignments-0.9.0-cp38-cp38-manylinux_2_17_x86_64.manylinux2014_x86_64.whl (1.2 MB)\n",
      "\u001B[2K     \u001B[90m━━━━━━━━━━━━━━━━━━━━━━━━━━━━━━━━━━━━━━━━\u001B[0m \u001B[32m1.2/1.2 MB\u001B[0m \u001B[31m61.8 MB/s\u001B[0m eta \u001B[36m0:00:00\u001B[0m\n",
      "\u001B[?25hRequirement already satisfied: torch>=1.8.0 in /usr/local/lib/python3.8/dist-packages (from spacy-transformers<1.3.0,>=1.1.2->spacy[cuda-autodetect,lookups,transformers]) (1.13.1+cu116)\n",
      "Requirement already satisfied: confection<1.0.0,>=0.0.1 in /usr/local/lib/python3.8/dist-packages (from thinc<8.2.0,>=8.1.0->spacy[cuda-autodetect,lookups,transformers]) (0.0.4)\n",
      "Requirement already satisfied: blis<0.8.0,>=0.7.8 in /usr/local/lib/python3.8/dist-packages (from thinc<8.2.0,>=8.1.0->spacy[cuda-autodetect,lookups,transformers]) (0.7.9)\n",
      "Requirement already satisfied: click<9.0.0,>=7.1.1 in /usr/local/lib/python3.8/dist-packages (from typer<0.8.0,>=0.3.0->spacy[cuda-autodetect,lookups,transformers]) (8.1.3)\n",
      "Requirement already satisfied: MarkupSafe>=2.0 in /usr/local/lib/python3.8/dist-packages (from jinja2->spacy[cuda-autodetect,lookups,transformers]) (2.1.2)\n",
      "Collecting tokenizers!=0.11.3,<0.14,>=0.11.1\n",
      "  Downloading tokenizers-0.13.2-cp38-cp38-manylinux_2_17_x86_64.manylinux2014_x86_64.whl (7.6 MB)\n",
      "\u001B[2K     \u001B[90m━━━━━━━━━━━━━━━━━━━━━━━━━━━━━━━━━━━━━━━━\u001B[0m \u001B[32m7.6/7.6 MB\u001B[0m \u001B[31m105.0 MB/s\u001B[0m eta \u001B[36m0:00:00\u001B[0m\n",
      "\u001B[?25hRequirement already satisfied: regex!=2019.12.17 in /usr/local/lib/python3.8/dist-packages (from transformers<4.27.0,>=3.4.0->spacy-transformers<1.3.0,>=1.1.2->spacy[cuda-autodetect,lookups,transformers]) (2022.6.2)\n",
      "Collecting huggingface-hub<1.0,>=0.11.0\n",
      "  Downloading huggingface_hub-0.12.1-py3-none-any.whl (190 kB)\n",
      "\u001B[2K     \u001B[90m━━━━━━━━━━━━━━━━━━━━━━━━━━━━━━━━━━━━━━\u001B[0m \u001B[32m190.3/190.3 kB\u001B[0m \u001B[31m26.9 MB/s\u001B[0m eta \u001B[36m0:00:00\u001B[0m\n",
      "\u001B[?25hRequirement already satisfied: pyyaml>=5.1 in /usr/local/lib/python3.8/dist-packages (from transformers<4.27.0,>=3.4.0->spacy-transformers<1.3.0,>=1.1.2->spacy[cuda-autodetect,lookups,transformers]) (6.0)\n",
      "Requirement already satisfied: filelock in /usr/local/lib/python3.8/dist-packages (from transformers<4.27.0,>=3.4.0->spacy-transformers<1.3.0,>=1.1.2->spacy[cuda-autodetect,lookups,transformers]) (3.9.0)\n",
      "Building wheels for collected packages: cupy-wheel\n",
      "  Building wheel for cupy-wheel (setup.py) ... \u001B[?25l\u001B[?25hdone\n",
      "  Created wheel for cupy-wheel: filename=cupy_wheel-11.6.0-0_cupy-cuda11x-py3-none-any.whl size=1015 sha256=353f6d81c2808700acb13645ea6f19f523c849b6db6a3a0688e0e95e8dd6693a\n",
      "  Stored in directory: /root/.cache/pip/wheels/a4/e2/a4/416f399735a3cfb16e0c0f83fb769d1e64f361e62c5cdca805\n",
      "\u001B[33m  WARNING: Built wheel for cupy-wheel is invalid: cupy_wheel-11.6.0-0_cupy-cuda11x-py3-none-any.whl is not a valid wheel filename.\u001B[0m\u001B[33m\n",
      "\u001B[0mFailed to build cupy-wheel\n",
      "Installing collected packages: tokenizers, spacy-lookups-data, spacy-alignments, cupy-cuda11x, huggingface-hub, cupy-wheel, transformers, spacy, spacy-transformers\n",
      "  Attempting uninstall: cupy-cuda11x\n",
      "    Found existing installation: cupy-cuda11x 11.0.0\n",
      "    Uninstalling cupy-cuda11x-11.0.0:\n",
      "      Successfully uninstalled cupy-cuda11x-11.0.0\n",
      "  Running setup.py install for cupy-wheel ... \u001B[?25l\u001B[?25hdone\n",
      "\u001B[33m  DEPRECATION: cupy-wheel was installed using the legacy 'setup.py install' method, because a wheel could not be built for it. pip 23.1 will enforce this behaviour change. A possible replacement is to fix the wheel build issue reported above. Discussion can be found at https://github.com/pypa/pip/issues/8368\u001B[0m\u001B[33m\n",
      "\u001B[0m  Attempting uninstall: spacy\n",
      "    Found existing installation: spacy 3.4.4\n",
      "    Uninstalling spacy-3.4.4:\n",
      "      Successfully uninstalled spacy-3.4.4\n",
      "\u001B[31mERROR: pip's dependency resolver does not currently take into account all the packages that are installed. This behaviour is the source of the following dependency conflicts.\n",
      "en-core-web-sm 3.4.1 requires spacy<3.5.0,>=3.4.0, but you have spacy 3.5.0 which is incompatible.\u001B[0m\u001B[31m\n",
      "\u001B[0mSuccessfully installed cupy-cuda11x-11.6.0 cupy-wheel huggingface-hub-0.12.1 spacy-3.5.0 spacy-alignments-0.9.0 spacy-lookups-data-1.0.3 spacy-transformers-1.2.2 tokenizers-0.13.2 transformers-4.26.1\n",
      "\u001B[33mWARNING: Running pip as the 'root' user can result in broken permissions and conflicting behaviour with the system package manager. It is recommended to use a virtual environment instead: https://pip.pypa.io/warnings/venv\u001B[0m\u001B[33m\n",
      "\u001B[0mLooking in indexes: https://pypi.org/simple, https://us-python.pkg.dev/colab-wheels/public/simple/\n",
      "Collecting en-core-web-lg==3.5.0\n",
      "  Downloading https://github.com/explosion/spacy-models/releases/download/en_core_web_lg-3.5.0/en_core_web_lg-3.5.0-py3-none-any.whl (587.7 MB)\n",
      "\u001B[2K     \u001B[90m━━━━━━━━━━━━━━━━━━━━━━━━━━━━━━━━━━━━━━━\u001B[0m \u001B[32m587.7/587.7 MB\u001B[0m \u001B[31m1.8 MB/s\u001B[0m eta \u001B[36m0:00:00\u001B[0m\n",
      "\u001B[?25hRequirement already satisfied: spacy<3.6.0,>=3.5.0 in /usr/local/lib/python3.8/dist-packages (from en-core-web-lg==3.5.0) (3.5.0)\n",
      "Requirement already satisfied: murmurhash<1.1.0,>=0.28.0 in /usr/local/lib/python3.8/dist-packages (from spacy<3.6.0,>=3.5.0->en-core-web-lg==3.5.0) (1.0.9)\n",
      "Requirement already satisfied: cymem<2.1.0,>=2.0.2 in /usr/local/lib/python3.8/dist-packages (from spacy<3.6.0,>=3.5.0->en-core-web-lg==3.5.0) (2.0.7)\n",
      "Requirement already satisfied: tqdm<5.0.0,>=4.38.0 in /usr/local/lib/python3.8/dist-packages (from spacy<3.6.0,>=3.5.0->en-core-web-lg==3.5.0) (4.64.1)\n",
      "Requirement already satisfied: spacy-legacy<3.1.0,>=3.0.11 in /usr/local/lib/python3.8/dist-packages (from spacy<3.6.0,>=3.5.0->en-core-web-lg==3.5.0) (3.0.12)\n",
      "Requirement already satisfied: thinc<8.2.0,>=8.1.0 in /usr/local/lib/python3.8/dist-packages (from spacy<3.6.0,>=3.5.0->en-core-web-lg==3.5.0) (8.1.7)\n",
      "Requirement already satisfied: packaging>=20.0 in /usr/local/lib/python3.8/dist-packages (from spacy<3.6.0,>=3.5.0->en-core-web-lg==3.5.0) (23.0)\n",
      "Requirement already satisfied: typer<0.8.0,>=0.3.0 in /usr/local/lib/python3.8/dist-packages (from spacy<3.6.0,>=3.5.0->en-core-web-lg==3.5.0) (0.7.0)\n",
      "Requirement already satisfied: smart-open<7.0.0,>=5.2.1 in /usr/local/lib/python3.8/dist-packages (from spacy<3.6.0,>=3.5.0->en-core-web-lg==3.5.0) (6.3.0)\n",
      "Requirement already satisfied: langcodes<4.0.0,>=3.2.0 in /usr/local/lib/python3.8/dist-packages (from spacy<3.6.0,>=3.5.0->en-core-web-lg==3.5.0) (3.3.0)\n",
      "Requirement already satisfied: pydantic!=1.8,!=1.8.1,<1.11.0,>=1.7.4 in /usr/local/lib/python3.8/dist-packages (from spacy<3.6.0,>=3.5.0->en-core-web-lg==3.5.0) (1.10.5)\n",
      "Requirement already satisfied: catalogue<2.1.0,>=2.0.6 in /usr/local/lib/python3.8/dist-packages (from spacy<3.6.0,>=3.5.0->en-core-web-lg==3.5.0) (2.0.8)\n",
      "Requirement already satisfied: wasabi<1.2.0,>=0.9.1 in /usr/local/lib/python3.8/dist-packages (from spacy<3.6.0,>=3.5.0->en-core-web-lg==3.5.0) (0.10.1)\n",
      "Requirement already satisfied: setuptools in /usr/local/lib/python3.8/dist-packages (from spacy<3.6.0,>=3.5.0->en-core-web-lg==3.5.0) (67.5.1)\n",
      "Requirement already satisfied: pathy>=0.10.0 in /usr/local/lib/python3.8/dist-packages (from spacy<3.6.0,>=3.5.0->en-core-web-lg==3.5.0) (0.10.1)\n",
      "Requirement already satisfied: jinja2 in /usr/local/lib/python3.8/dist-packages (from spacy<3.6.0,>=3.5.0->en-core-web-lg==3.5.0) (3.1.2)\n",
      "Requirement already satisfied: spacy-loggers<2.0.0,>=1.0.0 in /usr/local/lib/python3.8/dist-packages (from spacy<3.6.0,>=3.5.0->en-core-web-lg==3.5.0) (1.0.4)\n",
      "Requirement already satisfied: preshed<3.1.0,>=3.0.2 in /usr/local/lib/python3.8/dist-packages (from spacy<3.6.0,>=3.5.0->en-core-web-lg==3.5.0) (3.0.8)\n",
      "Requirement already satisfied: requests<3.0.0,>=2.13.0 in /usr/local/lib/python3.8/dist-packages (from spacy<3.6.0,>=3.5.0->en-core-web-lg==3.5.0) (2.25.1)\n",
      "Requirement already satisfied: srsly<3.0.0,>=2.4.3 in /usr/local/lib/python3.8/dist-packages (from spacy<3.6.0,>=3.5.0->en-core-web-lg==3.5.0) (2.4.6)\n",
      "Requirement already satisfied: numpy>=1.15.0 in /usr/local/lib/python3.8/dist-packages (from spacy<3.6.0,>=3.5.0->en-core-web-lg==3.5.0) (1.22.4)\n",
      "Requirement already satisfied: typing-extensions>=4.2.0 in /usr/local/lib/python3.8/dist-packages (from pydantic!=1.8,!=1.8.1,<1.11.0,>=1.7.4->spacy<3.6.0,>=3.5.0->en-core-web-lg==3.5.0) (4.5.0)\n",
      "Requirement already satisfied: chardet<5,>=3.0.2 in /usr/local/lib/python3.8/dist-packages (from requests<3.0.0,>=2.13.0->spacy<3.6.0,>=3.5.0->en-core-web-lg==3.5.0) (4.0.0)\n",
      "Requirement already satisfied: idna<3,>=2.5 in /usr/local/lib/python3.8/dist-packages (from requests<3.0.0,>=2.13.0->spacy<3.6.0,>=3.5.0->en-core-web-lg==3.5.0) (2.10)\n",
      "Requirement already satisfied: certifi>=2017.4.17 in /usr/local/lib/python3.8/dist-packages (from requests<3.0.0,>=2.13.0->spacy<3.6.0,>=3.5.0->en-core-web-lg==3.5.0) (2022.12.7)\n",
      "Requirement already satisfied: urllib3<1.27,>=1.21.1 in /usr/local/lib/python3.8/dist-packages (from requests<3.0.0,>=2.13.0->spacy<3.6.0,>=3.5.0->en-core-web-lg==3.5.0) (1.26.14)\n",
      "Requirement already satisfied: blis<0.8.0,>=0.7.8 in /usr/local/lib/python3.8/dist-packages (from thinc<8.2.0,>=8.1.0->spacy<3.6.0,>=3.5.0->en-core-web-lg==3.5.0) (0.7.9)\n",
      "Requirement already satisfied: confection<1.0.0,>=0.0.1 in /usr/local/lib/python3.8/dist-packages (from thinc<8.2.0,>=8.1.0->spacy<3.6.0,>=3.5.0->en-core-web-lg==3.5.0) (0.0.4)\n",
      "Requirement already satisfied: click<9.0.0,>=7.1.1 in /usr/local/lib/python3.8/dist-packages (from typer<0.8.0,>=0.3.0->spacy<3.6.0,>=3.5.0->en-core-web-lg==3.5.0) (8.1.3)\n",
      "Requirement already satisfied: MarkupSafe>=2.0 in /usr/local/lib/python3.8/dist-packages (from jinja2->spacy<3.6.0,>=3.5.0->en-core-web-lg==3.5.0) (2.1.2)\n",
      "Installing collected packages: en-core-web-lg\n",
      "Successfully installed en-core-web-lg-3.5.0\n",
      "\u001B[33mWARNING: Running pip as the 'root' user can result in broken permissions and conflicting behaviour with the system package manager. It is recommended to use a virtual environment instead: https://pip.pypa.io/warnings/venv\u001B[0m\u001B[33m\n",
      "\u001B[0m\u001B[38;5;2m✔ Download and installation successful\u001B[0m\n",
      "You can now load the package via spacy.load('en_core_web_lg')\n",
      "Looking in indexes: https://pypi.org/simple, https://us-python.pkg.dev/colab-wheels/public/simple/\n",
      "Collecting en-core-web-trf==3.5.0\n",
      "  Downloading https://github.com/explosion/spacy-models/releases/download/en_core_web_trf-3.5.0/en_core_web_trf-3.5.0-py3-none-any.whl (460.3 MB)\n",
      "\u001B[2K     \u001B[90m━━━━━━━━━━━━━━━━━━━━━━━━━━━━━━━━━━━━━━━\u001B[0m \u001B[32m460.3/460.3 MB\u001B[0m \u001B[31m2.6 MB/s\u001B[0m eta \u001B[36m0:00:00\u001B[0m\n",
      "\u001B[?25hRequirement already satisfied: spacy-transformers<1.3.0,>=1.2.0.dev0 in /usr/local/lib/python3.8/dist-packages (from en-core-web-trf==3.5.0) (1.2.2)\n",
      "Requirement already satisfied: spacy<3.6.0,>=3.5.0 in /usr/local/lib/python3.8/dist-packages (from en-core-web-trf==3.5.0) (3.5.0)\n",
      "Requirement already satisfied: tqdm<5.0.0,>=4.38.0 in /usr/local/lib/python3.8/dist-packages (from spacy<3.6.0,>=3.5.0->en-core-web-trf==3.5.0) (4.64.1)\n",
      "Requirement already satisfied: numpy>=1.15.0 in /usr/local/lib/python3.8/dist-packages (from spacy<3.6.0,>=3.5.0->en-core-web-trf==3.5.0) (1.22.4)\n",
      "Requirement already satisfied: requests<3.0.0,>=2.13.0 in /usr/local/lib/python3.8/dist-packages (from spacy<3.6.0,>=3.5.0->en-core-web-trf==3.5.0) (2.25.1)\n",
      "Requirement already satisfied: catalogue<2.1.0,>=2.0.6 in /usr/local/lib/python3.8/dist-packages (from spacy<3.6.0,>=3.5.0->en-core-web-trf==3.5.0) (2.0.8)\n",
      "Requirement already satisfied: packaging>=20.0 in /usr/local/lib/python3.8/dist-packages (from spacy<3.6.0,>=3.5.0->en-core-web-trf==3.5.0) (23.0)\n",
      "Requirement already satisfied: smart-open<7.0.0,>=5.2.1 in /usr/local/lib/python3.8/dist-packages (from spacy<3.6.0,>=3.5.0->en-core-web-trf==3.5.0) (6.3.0)\n",
      "Requirement already satisfied: preshed<3.1.0,>=3.0.2 in /usr/local/lib/python3.8/dist-packages (from spacy<3.6.0,>=3.5.0->en-core-web-trf==3.5.0) (3.0.8)\n",
      "Requirement already satisfied: wasabi<1.2.0,>=0.9.1 in /usr/local/lib/python3.8/dist-packages (from spacy<3.6.0,>=3.5.0->en-core-web-trf==3.5.0) (0.10.1)\n",
      "Requirement already satisfied: cymem<2.1.0,>=2.0.2 in /usr/local/lib/python3.8/dist-packages (from spacy<3.6.0,>=3.5.0->en-core-web-trf==3.5.0) (2.0.7)\n",
      "Requirement already satisfied: srsly<3.0.0,>=2.4.3 in /usr/local/lib/python3.8/dist-packages (from spacy<3.6.0,>=3.5.0->en-core-web-trf==3.5.0) (2.4.6)\n",
      "Requirement already satisfied: pathy>=0.10.0 in /usr/local/lib/python3.8/dist-packages (from spacy<3.6.0,>=3.5.0->en-core-web-trf==3.5.0) (0.10.1)\n",
      "Requirement already satisfied: langcodes<4.0.0,>=3.2.0 in /usr/local/lib/python3.8/dist-packages (from spacy<3.6.0,>=3.5.0->en-core-web-trf==3.5.0) (3.3.0)\n",
      "Requirement already satisfied: spacy-loggers<2.0.0,>=1.0.0 in /usr/local/lib/python3.8/dist-packages (from spacy<3.6.0,>=3.5.0->en-core-web-trf==3.5.0) (1.0.4)\n",
      "Requirement already satisfied: setuptools in /usr/local/lib/python3.8/dist-packages (from spacy<3.6.0,>=3.5.0->en-core-web-trf==3.5.0) (67.5.1)\n",
      "Requirement already satisfied: jinja2 in /usr/local/lib/python3.8/dist-packages (from spacy<3.6.0,>=3.5.0->en-core-web-trf==3.5.0) (3.1.2)\n",
      "Requirement already satisfied: typer<0.8.0,>=0.3.0 in /usr/local/lib/python3.8/dist-packages (from spacy<3.6.0,>=3.5.0->en-core-web-trf==3.5.0) (0.7.0)\n",
      "Requirement already satisfied: murmurhash<1.1.0,>=0.28.0 in /usr/local/lib/python3.8/dist-packages (from spacy<3.6.0,>=3.5.0->en-core-web-trf==3.5.0) (1.0.9)\n",
      "Requirement already satisfied: spacy-legacy<3.1.0,>=3.0.11 in /usr/local/lib/python3.8/dist-packages (from spacy<3.6.0,>=3.5.0->en-core-web-trf==3.5.0) (3.0.12)\n",
      "Requirement already satisfied: thinc<8.2.0,>=8.1.0 in /usr/local/lib/python3.8/dist-packages (from spacy<3.6.0,>=3.5.0->en-core-web-trf==3.5.0) (8.1.7)\n",
      "Requirement already satisfied: pydantic!=1.8,!=1.8.1,<1.11.0,>=1.7.4 in /usr/local/lib/python3.8/dist-packages (from spacy<3.6.0,>=3.5.0->en-core-web-trf==3.5.0) (1.10.5)\n",
      "Requirement already satisfied: transformers<4.27.0,>=3.4.0 in /usr/local/lib/python3.8/dist-packages (from spacy-transformers<1.3.0,>=1.2.0.dev0->en-core-web-trf==3.5.0) (4.26.1)\n",
      "Requirement already satisfied: spacy-alignments<1.0.0,>=0.7.2 in /usr/local/lib/python3.8/dist-packages (from spacy-transformers<1.3.0,>=1.2.0.dev0->en-core-web-trf==3.5.0) (0.9.0)\n",
      "Requirement already satisfied: torch>=1.8.0 in /usr/local/lib/python3.8/dist-packages (from spacy-transformers<1.3.0,>=1.2.0.dev0->en-core-web-trf==3.5.0) (1.13.1+cu116)\n",
      "Requirement already satisfied: typing-extensions>=4.2.0 in /usr/local/lib/python3.8/dist-packages (from pydantic!=1.8,!=1.8.1,<1.11.0,>=1.7.4->spacy<3.6.0,>=3.5.0->en-core-web-trf==3.5.0) (4.5.0)\n",
      "Requirement already satisfied: idna<3,>=2.5 in /usr/local/lib/python3.8/dist-packages (from requests<3.0.0,>=2.13.0->spacy<3.6.0,>=3.5.0->en-core-web-trf==3.5.0) (2.10)\n",
      "Requirement already satisfied: certifi>=2017.4.17 in /usr/local/lib/python3.8/dist-packages (from requests<3.0.0,>=2.13.0->spacy<3.6.0,>=3.5.0->en-core-web-trf==3.5.0) (2022.12.7)\n",
      "Requirement already satisfied: urllib3<1.27,>=1.21.1 in /usr/local/lib/python3.8/dist-packages (from requests<3.0.0,>=2.13.0->spacy<3.6.0,>=3.5.0->en-core-web-trf==3.5.0) (1.26.14)\n",
      "Requirement already satisfied: chardet<5,>=3.0.2 in /usr/local/lib/python3.8/dist-packages (from requests<3.0.0,>=2.13.0->spacy<3.6.0,>=3.5.0->en-core-web-trf==3.5.0) (4.0.0)\n",
      "Requirement already satisfied: confection<1.0.0,>=0.0.1 in /usr/local/lib/python3.8/dist-packages (from thinc<8.2.0,>=8.1.0->spacy<3.6.0,>=3.5.0->en-core-web-trf==3.5.0) (0.0.4)\n",
      "Requirement already satisfied: blis<0.8.0,>=0.7.8 in /usr/local/lib/python3.8/dist-packages (from thinc<8.2.0,>=8.1.0->spacy<3.6.0,>=3.5.0->en-core-web-trf==3.5.0) (0.7.9)\n",
      "Requirement already satisfied: tokenizers!=0.11.3,<0.14,>=0.11.1 in /usr/local/lib/python3.8/dist-packages (from transformers<4.27.0,>=3.4.0->spacy-transformers<1.3.0,>=1.2.0.dev0->en-core-web-trf==3.5.0) (0.13.2)\n",
      "Requirement already satisfied: pyyaml>=5.1 in /usr/local/lib/python3.8/dist-packages (from transformers<4.27.0,>=3.4.0->spacy-transformers<1.3.0,>=1.2.0.dev0->en-core-web-trf==3.5.0) (6.0)\n",
      "Requirement already satisfied: filelock in /usr/local/lib/python3.8/dist-packages (from transformers<4.27.0,>=3.4.0->spacy-transformers<1.3.0,>=1.2.0.dev0->en-core-web-trf==3.5.0) (3.9.0)\n",
      "Requirement already satisfied: regex!=2019.12.17 in /usr/local/lib/python3.8/dist-packages (from transformers<4.27.0,>=3.4.0->spacy-transformers<1.3.0,>=1.2.0.dev0->en-core-web-trf==3.5.0) (2022.6.2)\n",
      "Requirement already satisfied: huggingface-hub<1.0,>=0.11.0 in /usr/local/lib/python3.8/dist-packages (from transformers<4.27.0,>=3.4.0->spacy-transformers<1.3.0,>=1.2.0.dev0->en-core-web-trf==3.5.0) (0.12.1)\n",
      "Requirement already satisfied: click<9.0.0,>=7.1.1 in /usr/local/lib/python3.8/dist-packages (from typer<0.8.0,>=0.3.0->spacy<3.6.0,>=3.5.0->en-core-web-trf==3.5.0) (8.1.3)\n",
      "Requirement already satisfied: MarkupSafe>=2.0 in /usr/local/lib/python3.8/dist-packages (from jinja2->spacy<3.6.0,>=3.5.0->en-core-web-trf==3.5.0) (2.1.2)\n",
      "Installing collected packages: en-core-web-trf\n",
      "Successfully installed en-core-web-trf-3.5.0\n",
      "\u001B[33mWARNING: Running pip as the 'root' user can result in broken permissions and conflicting behaviour with the system package manager. It is recommended to use a virtual environment instead: https://pip.pypa.io/warnings/venv\u001B[0m\u001B[33m\n",
      "\u001B[0m\u001B[38;5;2m✔ Download and installation successful\u001B[0m\n",
      "You can now load the package via spacy.load('en_core_web_trf')\n"
     ]
    }
   ],
   "source": [
    "!pip install -U pip setuptools wheel\n",
    "!pip install -U 'spacy[cuda-autodetect,transformers,lookups]'\n",
    "!python -m spacy download en_core_web_lg\n",
    "!python -m spacy download en_core_web_trf"
   ]
  },
  {
   "cell_type": "markdown",
   "source": [
    "# Hardware Specifications\n"
   ],
   "metadata": {
    "id": "kyy5bHnQSxIh",
    "pycharm": {
     "name": "#%% md\n"
    }
   }
  },
  {
   "cell_type": "code",
   "source": [
    "!nvidia-smi -L"
   ],
   "metadata": {
    "colab": {
     "base_uri": "https://localhost:8080/"
    },
    "id": "3rkNe_A1Swr6",
    "executionInfo": {
     "status": "ok",
     "timestamp": 1678134158661,
     "user_tz": -60,
     "elapsed": 915,
     "user": {
      "displayName": "Computer Networks HHU",
      "userId": "05668673963966344466"
     }
    },
    "outputId": "1acadaeb-3ee9-43ad-eca3-5f762fb18ddc",
    "pycharm": {
     "name": "#%%\n"
    }
   },
   "execution_count": 4,
   "outputs": [
    {
     "output_type": "stream",
     "name": "stdout",
     "text": [
      "GPU 0: Tesla T4 (UUID: GPU-616858e9-5652-63ea-cf1a-e7df8574dc8e)\n"
     ]
    }
   ]
  },
  {
   "cell_type": "code",
   "source": [
    "!nvidia-smi"
   ],
   "metadata": {
    "id": "0iGmuRPETp0a",
    "colab": {
     "base_uri": "https://localhost:8080/"
    },
    "executionInfo": {
     "status": "ok",
     "timestamp": 1678134159073,
     "user_tz": -60,
     "elapsed": 416,
     "user": {
      "displayName": "Computer Networks HHU",
      "userId": "05668673963966344466"
     }
    },
    "outputId": "edd9ffab-0b6c-4ce8-8b69-7f7f635cbeeb",
    "pycharm": {
     "name": "#%%\n"
    }
   },
   "execution_count": 5,
   "outputs": [
    {
     "output_type": "stream",
     "name": "stdout",
     "text": [
      "Mon Mar  6 20:22:38 2023       \n",
      "+-----------------------------------------------------------------------------+\n",
      "| NVIDIA-SMI 525.85.12    Driver Version: 525.85.12    CUDA Version: 12.0     |\n",
      "|-------------------------------+----------------------+----------------------+\n",
      "| GPU  Name        Persistence-M| Bus-Id        Disp.A | Volatile Uncorr. ECC |\n",
      "| Fan  Temp  Perf  Pwr:Usage/Cap|         Memory-Usage | GPU-Util  Compute M. |\n",
      "|                               |                      |               MIG M. |\n",
      "|===============================+======================+======================|\n",
      "|   0  Tesla T4            Off  | 00000000:00:04.0 Off |                    0 |\n",
      "| N/A   44C    P0    24W /  70W |      0MiB / 15360MiB |      0%      Default |\n",
      "|                               |                      |                  N/A |\n",
      "+-------------------------------+----------------------+----------------------+\n",
      "                                                                               \n",
      "+-----------------------------------------------------------------------------+\n",
      "| Processes:                                                                  |\n",
      "|  GPU   GI   CI        PID   Type   Process name                  GPU Memory |\n",
      "|        ID   ID                                                   Usage      |\n",
      "|=============================================================================|\n",
      "|  No running processes found                                                 |\n",
      "+-----------------------------------------------------------------------------+\n"
     ]
    }
   ]
  },
  {
   "cell_type": "code",
   "source": [
    "!lscpu"
   ],
   "metadata": {
    "colab": {
     "base_uri": "https://localhost:8080/"
    },
    "id": "N02tgeq0TvXI",
    "executionInfo": {
     "status": "ok",
     "timestamp": 1678134159073,
     "user_tz": -60,
     "elapsed": 8,
     "user": {
      "displayName": "Computer Networks HHU",
      "userId": "05668673963966344466"
     }
    },
    "outputId": "a3f82883-d2b8-4523-bbe4-fedc544bae1c",
    "pycharm": {
     "name": "#%%\n"
    }
   },
   "execution_count": 6,
   "outputs": [
    {
     "output_type": "stream",
     "name": "stdout",
     "text": [
      "Architecture:                    x86_64\n",
      "CPU op-mode(s):                  32-bit, 64-bit\n",
      "Byte Order:                      Little Endian\n",
      "Address sizes:                   46 bits physical, 48 bits virtual\n",
      "CPU(s):                          2\n",
      "On-line CPU(s) list:             0,1\n",
      "Thread(s) per core:              2\n",
      "Core(s) per socket:              1\n",
      "Socket(s):                       1\n",
      "NUMA node(s):                    1\n",
      "Vendor ID:                       GenuineIntel\n",
      "CPU family:                      6\n",
      "Model:                           85\n",
      "Model name:                      Intel(R) Xeon(R) CPU @ 2.00GHz\n",
      "Stepping:                        3\n",
      "CPU MHz:                         2000.212\n",
      "BogoMIPS:                        4000.42\n",
      "Hypervisor vendor:               KVM\n",
      "Virtualization type:             full\n",
      "L1d cache:                       32 KiB\n",
      "L1i cache:                       32 KiB\n",
      "L2 cache:                        1 MiB\n",
      "L3 cache:                        38.5 MiB\n",
      "NUMA node0 CPU(s):               0,1\n",
      "Vulnerability Itlb multihit:     Not affected\n",
      "Vulnerability L1tf:              Mitigation; PTE Inversion\n",
      "Vulnerability Mds:               Vulnerable; SMT Host state unknown\n",
      "Vulnerability Meltdown:          Vulnerable\n",
      "Vulnerability Mmio stale data:   Vulnerable\n",
      "Vulnerability Retbleed:          Vulnerable\n",
      "Vulnerability Spec store bypass: Vulnerable\n",
      "Vulnerability Spectre v1:        Vulnerable: __user pointer sanitization and use\n",
      "                                 rcopy barriers only; no swapgs barriers\n",
      "Vulnerability Spectre v2:        Vulnerable, IBPB: disabled, STIBP: disabled, PB\n",
      "                                 RSB-eIBRS: Not affected\n",
      "Vulnerability Srbds:             Not affected\n",
      "Vulnerability Tsx async abort:   Vulnerable\n",
      "Flags:                           fpu vme de pse tsc msr pae mce cx8 apic sep mtr\n",
      "                                 r pge mca cmov pat pse36 clflush mmx fxsr sse s\n",
      "                                 se2 ss ht syscall nx pdpe1gb rdtscp lm constant\n",
      "                                 _tsc rep_good nopl xtopology nonstop_tsc cpuid \n",
      "                                 tsc_known_freq pni pclmulqdq ssse3 fma cx16 pci\n",
      "                                 d sse4_1 sse4_2 x2apic movbe popcnt aes xsave a\n",
      "                                 vx f16c rdrand hypervisor lahf_lm abm 3dnowpref\n",
      "                                 etch invpcid_single ssbd ibrs ibpb stibp fsgsba\n",
      "                                 se tsc_adjust bmi1 hle avx2 smep bmi2 erms invp\n",
      "                                 cid rtm mpx avx512f avx512dq rdseed adx smap cl\n",
      "                                 flushopt clwb avx512cd avx512bw avx512vl xsaveo\n",
      "                                 pt xsavec xgetbv1 xsaves arat md_clear arch_cap\n",
      "                                 abilities\n"
     ]
    }
   ]
  },
  {
   "cell_type": "markdown",
   "source": [
    "# Loading data assets"
   ],
   "metadata": {
    "id": "k_DpmrL_UWAN",
    "pycharm": {
     "name": "#%% md\n"
    }
   }
  },
  {
   "cell_type": "code",
   "source": [
    "# This command fetches the data assets that should later be converted to .spacy\n",
    "!spacy project assets"
   ],
   "metadata": {
    "colab": {
     "base_uri": "https://localhost:8080/"
    },
    "id": "aPrbjE-dUdWz",
    "executionInfo": {
     "status": "ok",
     "timestamp": 1678134174027,
     "user_tz": -60,
     "elapsed": 14957,
     "user": {
      "displayName": "Computer Networks HHU",
      "userId": "05668673963966344466"
     }
    },
    "outputId": "2e9377c8-c084-4b5e-de2b-e49f69ab4a39",
    "pycharm": {
     "name": "#%%\n"
    }
   },
   "execution_count": 7,
   "outputs": [
    {
     "output_type": "stream",
     "name": "stdout",
     "text": [
      "\u001B[38;5;4mℹ Fetching 3 asset(s)\u001B[0m\n",
      "\u001B[38;5;2m✔ Downloaded asset /content/drive/MyDrive/Colab\n",
      "Notebooks/Feger/NER-CTI/assets/CyNER/train.txt\u001B[0m\n",
      "\u001B[38;5;2m✔ Downloaded asset /content/drive/MyDrive/Colab\n",
      "Notebooks/Feger/NER-CTI/assets/CyNER/valid.txt\u001B[0m\n",
      "\u001B[38;5;2m✔ Downloaded asset /content/drive/MyDrive/Colab\n",
      "Notebooks/Feger/NER-CTI/assets/CyNER/test.txt\u001B[0m\n"
     ]
    }
   ]
  },
  {
   "cell_type": "markdown",
   "source": [
    "# spaCy'fy the data data"
   ],
   "metadata": {
    "id": "colai-h1VUnY",
    "pycharm": {
     "name": "#%% md\n"
    }
   }
  },
  {
   "cell_type": "code",
   "source": [
    "!spacy project run preparation"
   ],
   "metadata": {
    "colab": {
     "base_uri": "https://localhost:8080/"
    },
    "id": "5zk2qYfdVKym",
    "executionInfo": {
     "status": "ok",
     "timestamp": 1678134221277,
     "user_tz": -60,
     "elapsed": 47254,
     "user": {
      "displayName": "Computer Networks HHU",
      "userId": "05668673963966344466"
     }
    },
    "outputId": "df788c6b-a504-4177-b7d4-bda96181e7cf",
    "pycharm": {
     "name": "#%%\n"
    }
   },
   "execution_count": 8,
   "outputs": [
    {
     "output_type": "stream",
     "name": "stdout",
     "text": [
      "\u001B[38;5;4mℹ Running workflow 'preparation'\u001B[0m\n",
      "\u001B[1m\n",
      "==================================== info ====================================\u001B[0m\n",
      "\u001B[38;5;4mℹ Skipping 'info': nothing changed\u001B[0m\n",
      "\u001B[1m\n",
      "======================= brace-yourself-data-is-coming =======================\u001B[0m\n",
      "Running command: mkdir -p corpus/CyNER/\n",
      "Running command: spacy convert assets/CyNER/train.txt ./corpus/CyNER/ --file-type spacy --converter conll\n",
      "\u001B[38;5;4mℹ Grouping every 1 sentences into a document.\u001B[0m\n",
      "\u001B[38;5;3m⚠ To generate better training data, you may want to group sentences\n",
      "into documents with `-n 10`.\u001B[0m\n",
      "\u001B[38;5;2m✔ Generated output file (2811 documents): corpus/CyNER/train.spacy\u001B[0m\n",
      "Running command: spacy convert assets/CyNER/valid.txt ./corpus/CyNER/ --file-type spacy --converter conll\n",
      "\u001B[38;5;4mℹ Grouping every 1 sentences into a document.\u001B[0m\n",
      "\u001B[38;5;3m⚠ To generate better training data, you may want to group sentences\n",
      "into documents with `-n 10`.\u001B[0m\n",
      "\u001B[38;5;2m✔ Generated output file (813 documents): corpus/CyNER/valid.spacy\u001B[0m\n",
      "Running command: spacy convert assets/CyNER/test.txt ./corpus/CyNER/ --file-type spacy --converter conll\n",
      "\u001B[38;5;4mℹ Grouping every 1 sentences into a document.\u001B[0m\n",
      "\u001B[38;5;3m⚠ To generate better training data, you may want to group sentences\n",
      "into documents with `-n 10`.\u001B[0m\n",
      "\u001B[38;5;2m✔ Generated output file (748 documents): corpus/CyNER/test.spacy\u001B[0m\n",
      "Running command: mv corpus/CyNER/valid.spacy corpus/CyNER/dev.spacy\n",
      "\u001B[1m\n",
      "========================= initialize-configurations =========================\u001B[0m\n",
      "\u001B[38;5;4mℹ Skipping 'initialize-configurations': nothing changed\u001B[0m\n"
     ]
    }
   ]
  },
  {
   "cell_type": "markdown",
   "source": [
    "# Training and evaluation of the \"classic model\"\n"
   ],
   "metadata": {
    "id": "FxBdet91YibJ",
    "pycharm": {
     "name": "#%% md\n"
    }
   }
  },
  {
   "cell_type": "code",
   "source": [
    "!spacy project run classic-model"
   ],
   "metadata": {
    "colab": {
     "base_uri": "https://localhost:8080/"
    },
    "id": "eSW72R6_YpME",
    "executionInfo": {
     "status": "ok",
     "timestamp": 1678135293011,
     "user_tz": -60,
     "elapsed": 1071741,
     "user": {
      "displayName": "Computer Networks HHU",
      "userId": "05668673963966344466"
     }
    },
    "outputId": "69806233-b596-4195-ecc3-ae89153d23f5",
    "pycharm": {
     "name": "#%%\n"
    }
   },
   "execution_count": 9,
   "outputs": [
    {
     "output_type": "stream",
     "name": "stdout",
     "text": [
      "\u001B[38;5;4mℹ Running workflow 'classic-model'\u001B[0m\n",
      "\u001B[1m\n",
      "========================== debug-data-classic-model ==========================\u001B[0m\n",
      "Running command: spacy debug data ./configs/training_classic_model_config.cfg --verbose --paths.train ./corpus/CyNER/train.spacy --paths.dev ./corpus/CyNER/dev.spacy\n",
      "\u001B[1m\n",
      "============================ Data file validation ============================\u001B[0m\n",
      "\u001B[38;5;2m✔ Pipeline can be initialized with data\u001B[0m\n",
      "\u001B[38;5;2m✔ Corpus is loadable\u001B[0m\n",
      "\u001B[1m\n",
      "=============================== Training stats ===============================\u001B[0m\n",
      "Language: en\n",
      "Training pipeline: tok2vec, ner\n",
      "2811 training docs\n",
      "813 evaluation docs\n",
      "\u001B[38;5;3m⚠ 12 training examples also in evaluation data\u001B[0m\n",
      "\u001B[1m\n",
      "============================== Vocab & Vectors ==============================\u001B[0m\n",
      "\u001B[38;5;4mℹ 68191 total word(s) in the data (7954 unique)\u001B[0m\n",
      "10 most common words: 'the' (3674), '.' (2664), ',' (2597), 'to' (1648), 'of'\n",
      "(1410), 'and' (1256), 'a' (1105), 'is' (787), 'in' (784), 'The' (568)\n",
      "\u001B[38;5;4mℹ 514157 vectors (514157 unique keys, 300 dimensions)\u001B[0m\n",
      "\u001B[38;5;3m⚠ 2944 words in training data without vectors (4%)\u001B[0m\n",
      "10 most common words without vectors: 'hxxp' (50), 'XLoader' (41), 'FinFisher'\n",
      "(41), 'RuMMS' (37), 'Asacub' (29), 'Ginp' (21), 'Gooligan' (19), 'GolfSpy' (19),\n",
      "'HummingBad' (18), 'FrozenCell' (15)\n",
      "\u001B[1m\n",
      "========================== Named Entity Recognition ==========================\u001B[0m\n",
      "\u001B[38;5;4mℹ 5 label(s)\u001B[0m\n",
      "0 missing value(s) (tokens with '-' label)\n",
      "Labels in train data: 'Indicator' (1252), 'System' (838), 'Malware' (705),\n",
      "'Organization' (288), 'Vulnerability' (48)\n",
      "\u001B[38;5;3m⚠ Low number of examples for label 'Vulnerability' (48)\u001B[0m\n",
      "\u001B[2K\u001B[38;5;2m✔ Examples without occurrences available for all labels\u001B[0m\n",
      "\u001B[38;5;2m✔ No entities consisting of or starting/ending with whitespace\u001B[0m\n",
      "\u001B[38;5;2m✔ No entities crossing sentence boundaries\u001B[0m\n",
      "To train a new entity type, your data should include at least 50 instances of\n",
      "the new label\n",
      "\u001B[1m\n",
      "================================== Summary ==================================\u001B[0m\n",
      "\u001B[38;5;2m✔ 5 checks passed\u001B[0m\n",
      "\u001B[38;5;3m⚠ 3 warnings\u001B[0m\n",
      "\u001B[1m\n",
      "============================ train-classic-model ============================\u001B[0m\n",
      "Running command: spacy train ./configs/training_classic_model_config.cfg --gpu-id 0 --verbose --output ./models/classic --paths.train ./corpus/CyNER/train.spacy --paths.dev ./corpus/CyNER/dev.spacy\n",
      "[2023-03-06 20:24:18,620] [DEBUG] Config overrides from CLI: ['paths.train', 'paths.dev']\n",
      "\u001B[38;5;2m✔ Created output directory: models/classic\u001B[0m\n",
      "\u001B[38;5;4mℹ Saving to output directory: models/classic\u001B[0m\n",
      "\u001B[38;5;4mℹ Using GPU: 0\u001B[0m\n",
      "\u001B[1m\n",
      "=========================== Initializing pipeline ===========================\u001B[0m\n",
      "[2023-03-06 20:24:23,663] [INFO] Set up nlp object from config\n",
      "[2023-03-06 20:24:23,673] [DEBUG] Loading corpus from path: corpus/CyNER/dev.spacy\n",
      "[2023-03-06 20:24:23,674] [DEBUG] Loading corpus from path: corpus/CyNER/train.spacy\n",
      "[2023-03-06 20:24:23,674] [INFO] Pipeline: ['tok2vec', 'ner']\n",
      "[2023-03-06 20:24:23,677] [INFO] Created vocabulary\n",
      "[2023-03-06 20:24:26,484] [INFO] Added vectors: en_core_web_lg\n",
      "[2023-03-06 20:24:28,952] [INFO] Finished initializing nlp object\n",
      "[2023-03-06 20:24:40,741] [DEBUG] [W033] Training a new parser or NER using a model with no lexeme normalization table. This may degrade the performance of the model to some degree. If this is intentional or the language you're using doesn't have a normalization table, please ignore this warning. If this is surprising, make sure you have the spacy-lookups-data package installed and load the table in your config. The languages with lexeme normalization tables are currently: cs, da, de, el, en, id, lb, mk, pt, ru, sr, ta, th\n",
      "\n",
      "Load the table in your config with:\n",
      "\n",
      "[initialize.lookups]\n",
      "@misc = \"spacy.LookupsDataLoader.v1\"\n",
      "lang = ${nlp.lang}\n",
      "tables = [\"lexeme_norm\"]\n",
      "\n",
      "[2023-03-06 20:24:44,667] [INFO] Initialized pipeline components: ['tok2vec', 'ner']\n",
      "\u001B[38;5;2m✔ Initialized pipeline\u001B[0m\n",
      "\u001B[1m\n",
      "============================= Training pipeline =============================\u001B[0m\n",
      "[2023-03-06 20:24:44,677] [DEBUG] Loading corpus from path: corpus/CyNER/dev.spacy\n",
      "[2023-03-06 20:24:44,678] [DEBUG] Loading corpus from path: corpus/CyNER/train.spacy\n",
      "\u001B[38;5;4mℹ Pipeline: ['tok2vec', 'ner']\u001B[0m\n",
      "\u001B[38;5;4mℹ Initial learn rate: 0.001\u001B[0m\n",
      "E    #       LOSS TOK2VEC  LOSS NER  ENTS_F  ENTS_P  ENTS_R  SCORE \n",
      "---  ------  ------------  --------  ------  ------  ------  ------\n",
      "  0       0          0.00     50.55    0.00    0.00    0.00    0.00\n",
      "  0     200         40.49   1622.70   35.01   45.51   28.44    0.35\n",
      "  0     400         48.77    977.55   52.47   66.41   43.37    0.52\n",
      "  1     600        128.34    993.97   50.08   68.67   39.41    0.50\n",
      "  1     800         89.92    803.48   56.67   74.33   45.79    0.57\n",
      "  2    1000         68.73    896.76   53.04   76.63   40.56    0.53\n",
      "  3    1200        269.71   1015.75   53.91   73.41   42.60    0.54\n",
      "  4    1400         94.75    833.22   58.08   72.74   48.34    0.58\n",
      "  5    1600        123.97    827.46   54.90   69.40   45.41    0.55\n",
      "  6    1800        132.99    802.54   55.54   73.12   44.77    0.56\n",
      "  8    2000        200.65    825.76   54.77   70.85   44.64    0.55\n",
      " 11    2200        172.93    706.84   51.92   69.83   41.33    0.52\n",
      " 13    2400        247.53    694.28   53.85   69.06   44.13    0.54\n",
      " 16    2600        186.50    504.66   58.44   73.88   48.34    0.58\n",
      " 19    2800        231.10    385.22   53.83   70.60   43.49    0.54\n",
      " 22    3000        276.03    370.87   55.58   70.10   46.05    0.56\n",
      " 25    3200        305.49    289.98   51.91   62.75   44.26    0.52\n",
      " 28    3400        358.81    357.17   55.18   64.51   48.21    0.55\n",
      " 31    3600        290.54    258.08   53.12   63.75   45.54    0.53\n",
      " 33    3800        284.61    261.71   55.05   69.59   45.54    0.55\n",
      " 36    4000        345.57    216.12   55.12   70.44   45.28    0.55\n",
      " 39    4200        344.40    217.18   55.79   63.92   49.49    0.56\n",
      "\u001B[38;5;2m✔ Saved pipeline to output directory\u001B[0m\n",
      "models/classic/model-last\n",
      "\u001B[1m\n",
      "=========================== evaluate-classic-model ===========================\u001B[0m\n",
      "Running command: spacy evaluate ./models/classic/model-best ./corpus/CyNER/test.spacy --gpu-id 0\n",
      "\u001B[38;5;4mℹ Using GPU: 0\u001B[0m\n",
      "\u001B[1m\n",
      "================================== Results ==================================\u001B[0m\n",
      "\n",
      "TOK     -    \n",
      "NER P   70.34\n",
      "NER R   50.43\n",
      "NER F   58.74\n",
      "SPEED   13330\n",
      "\n",
      "\u001B[1m\n",
      "=============================== NER (per type) ===============================\u001B[0m\n",
      "\n",
      "                    P       R       F\n",
      "System          68.32   44.18   53.66\n",
      "Organization    60.94   29.10   39.39\n",
      "Vulnerability   80.00   40.00   53.33\n",
      "Malware         78.57   45.45   57.59\n",
      "Indicator       69.44   69.44   69.44\n",
      "\n"
     ]
    }
   ]
  },
  {
   "cell_type": "markdown",
   "source": [
    "#Training and evaluation of the \"foundation model\""
   ],
   "metadata": {
    "id": "AkEBlQ9FdB-9",
    "pycharm": {
     "name": "#%% md\n"
    }
   }
  },
  {
   "cell_type": "code",
   "source": [
    "!spacy project run foundation-model"
   ],
   "metadata": {
    "colab": {
     "base_uri": "https://localhost:8080/"
    },
    "id": "COONb8wrcYJN",
    "executionInfo": {
     "status": "ok",
     "timestamp": 1678139819210,
     "user_tz": -60,
     "elapsed": 4526210,
     "user": {
      "displayName": "Computer Networks HHU",
      "userId": "05668673963966344466"
     }
    },
    "outputId": "1ce98fbb-b023-49cd-87b9-ccea14cb9c77",
    "pycharm": {
     "name": "#%%\n"
    }
   },
   "execution_count": 10,
   "outputs": [
    {
     "output_type": "stream",
     "name": "stdout",
     "text": [
      "\u001B[38;5;4mℹ Running workflow 'foundation-model'\u001B[0m\n",
      "\u001B[1m\n",
      "======================== debug-data-foundation-model ========================\u001B[0m\n",
      "Running command: spacy debug data ./configs/training_foundation_model_config.cfg --verbose --paths.train ./corpus/CyNER/train.spacy --paths.dev ./corpus/CyNER/dev.spacy\n",
      "\u001B[1m\n",
      "============================ Data file validation ============================\u001B[0m\n",
      "Downloading (…)lve/main/config.json: 100% 481/481 [00:00<00:00, 78.4kB/s]\n",
      "Downloading (…)olve/main/vocab.json: 100% 899k/899k [00:01<00:00, 791kB/s]\n",
      "Downloading (…)olve/main/merges.txt: 100% 456k/456k [00:00<00:00, 509kB/s]\n",
      "Downloading (…)/main/tokenizer.json: 100% 1.36M/1.36M [00:01<00:00, 1.19MB/s]\n",
      "Downloading (…)\"pytorch_model.bin\";: 100% 501M/501M [00:01<00:00, 320MB/s]\n",
      "Some weights of the model checkpoint at roberta-base were not used when initializing RobertaModel: ['lm_head.bias', 'lm_head.layer_norm.weight', 'lm_head.dense.bias', 'lm_head.decoder.weight', 'lm_head.layer_norm.bias', 'lm_head.dense.weight']\n",
      "- This IS expected if you are initializing RobertaModel from the checkpoint of a model trained on another task or with another architecture (e.g. initializing a BertForSequenceClassification model from a BertForPreTraining model).\n",
      "- This IS NOT expected if you are initializing RobertaModel from the checkpoint of a model that you expect to be exactly identical (initializing a BertForSequenceClassification model from a BertForSequenceClassification model).\n",
      "\u001B[38;5;2m✔ Pipeline can be initialized with data\u001B[0m\n",
      "\u001B[38;5;2m✔ Corpus is loadable\u001B[0m\n",
      "\u001B[1m\n",
      "=============================== Training stats ===============================\u001B[0m\n",
      "Language: en\n",
      "Training pipeline: transformer, ner\n",
      "2811 training docs\n",
      "813 evaluation docs\n",
      "\u001B[38;5;3m⚠ 12 training examples also in evaluation data\u001B[0m\n",
      "\u001B[1m\n",
      "============================== Vocab & Vectors ==============================\u001B[0m\n",
      "\u001B[38;5;4mℹ 68191 total word(s) in the data (7954 unique)\u001B[0m\n",
      "10 most common words: 'the' (3674), '.' (2664), ',' (2597), 'to' (1648), 'of'\n",
      "(1410), 'and' (1256), 'a' (1105), 'is' (787), 'in' (784), 'The' (568)\n",
      "\u001B[38;5;4mℹ No word vectors present in the package\u001B[0m\n",
      "\u001B[1m\n",
      "========================== Named Entity Recognition ==========================\u001B[0m\n",
      "\u001B[38;5;4mℹ 5 label(s)\u001B[0m\n",
      "0 missing value(s) (tokens with '-' label)\n",
      "Labels in train data: 'Indicator' (1252), 'System' (838), 'Malware' (705),\n",
      "'Organization' (288), 'Vulnerability' (48)\n",
      "\u001B[38;5;3m⚠ Low number of examples for label 'Vulnerability' (48)\u001B[0m\n",
      "huggingface/tokenizers: The current process just got forked, after parallelism has already been used. Disabling parallelism to avoid deadlocks...\n",
      "To disable this warning, you can either:\n",
      "\t- Avoid using `tokenizers` before the fork if possible\n",
      "\t- Explicitly set the environment variable TOKENIZERS_PARALLELISM=(true | false)\n",
      "\u001B[2K\u001B[38;5;2m✔ Examples without occurrences available for all labels\u001B[0m\n",
      "\u001B[38;5;2m✔ No entities consisting of or starting/ending with whitespace\u001B[0m\n",
      "\u001B[38;5;2m✔ No entities crossing sentence boundaries\u001B[0m\n",
      "To train a new entity type, your data should include at least 50 instances of\n",
      "the new label\n",
      "\u001B[1m\n",
      "================================== Summary ==================================\u001B[0m\n",
      "\u001B[38;5;2m✔ 5 checks passed\u001B[0m\n",
      "\u001B[38;5;3m⚠ 2 warnings\u001B[0m\n",
      "\u001B[1m\n",
      "=========================== train-foundation-model ===========================\u001B[0m\n",
      "Running command: spacy train ./configs/training_foundation_model_config.cfg --gpu-id 0 --verbose --output ./models/foundation --paths.train ./corpus/CyNER/train.spacy --paths.dev ./corpus/CyNER/dev.spacy\n",
      "[2023-03-06 20:42:25,650] [DEBUG] Config overrides from CLI: ['paths.train', 'paths.dev']\n",
      "\u001B[38;5;2m✔ Created output directory: models/foundation\u001B[0m\n",
      "\u001B[38;5;4mℹ Saving to output directory: models/foundation\u001B[0m\n",
      "\u001B[38;5;4mℹ Using GPU: 0\u001B[0m\n",
      "\u001B[1m\n",
      "=========================== Initializing pipeline ===========================\u001B[0m\n",
      "[2023-03-06 20:42:27,860] [INFO] Set up nlp object from config\n",
      "[2023-03-06 20:42:27,874] [DEBUG] Loading corpus from path: corpus/CyNER/dev.spacy\n",
      "[2023-03-06 20:42:27,876] [DEBUG] Loading corpus from path: corpus/CyNER/train.spacy\n",
      "[2023-03-06 20:42:27,876] [INFO] Pipeline: ['transformer', 'ner']\n",
      "[2023-03-06 20:42:27,882] [INFO] Created vocabulary\n",
      "[2023-03-06 20:42:27,883] [INFO] Finished initializing nlp object\n",
      "Some weights of the model checkpoint at roberta-base were not used when initializing RobertaModel: ['lm_head.layer_norm.bias', 'lm_head.dense.bias', 'lm_head.decoder.weight', 'lm_head.dense.weight', 'lm_head.layer_norm.weight', 'lm_head.bias']\n",
      "- This IS expected if you are initializing RobertaModel from the checkpoint of a model trained on another task or with another architecture (e.g. initializing a BertForSequenceClassification model from a BertForPreTraining model).\n",
      "- This IS NOT expected if you are initializing RobertaModel from the checkpoint of a model that you expect to be exactly identical (initializing a BertForSequenceClassification model from a BertForSequenceClassification model).\n",
      "[2023-03-06 20:42:35,530] [DEBUG] [W033] Training a new parser or NER using a model with no lexeme normalization table. This may degrade the performance of the model to some degree. If this is intentional or the language you're using doesn't have a normalization table, please ignore this warning. If this is surprising, make sure you have the spacy-lookups-data package installed and load the table in your config. The languages with lexeme normalization tables are currently: cs, da, de, el, en, id, lb, mk, pt, ru, sr, ta, th\n",
      "\n",
      "Load the table in your config with:\n",
      "\n",
      "[initialize.lookups]\n",
      "@misc = \"spacy.LookupsDataLoader.v1\"\n",
      "lang = ${nlp.lang}\n",
      "tables = [\"lexeme_norm\"]\n",
      "\n",
      "[2023-03-06 20:42:49,903] [INFO] Initialized pipeline components: ['transformer', 'ner']\n",
      "\u001B[38;5;2m✔ Initialized pipeline\u001B[0m\n",
      "\u001B[1m\n",
      "============================= Training pipeline =============================\u001B[0m\n",
      "[2023-03-06 20:42:49,914] [DEBUG] Loading corpus from path: corpus/CyNER/dev.spacy\n",
      "[2023-03-06 20:42:49,915] [DEBUG] Loading corpus from path: corpus/CyNER/train.spacy\n",
      "\u001B[38;5;4mℹ Pipeline: ['transformer', 'ner']\u001B[0m\n",
      "\u001B[38;5;4mℹ Initial learn rate: 0.0\u001B[0m\n",
      "E    #       LOSS TRANS...  LOSS NER  ENTS_F  ENTS_P  ENTS_R  SCORE \n",
      "---  ------  -------------  --------  ------  ------  ------  ------\n",
      "  0       0          99.65     73.35    0.49    0.27    3.06    0.00\n",
      "  3     200       48342.74  43532.91   69.72   70.59   68.88    0.70\n",
      "  7     400        3346.25   3369.57   77.96   78.10   77.81    0.78\n",
      " 11     600        2114.85   1559.36   75.99   76.49   75.51    0.76\n",
      " 15     800         914.59    830.84   77.99   76.70   79.34    0.78\n",
      " 18    1000         457.99    486.05   74.56   79.39   70.28    0.75\n",
      " 22    1200         295.97    319.73   76.81   75.71   77.93    0.77\n",
      " 26    1400         227.98    288.84   75.95   81.25   71.30    0.76\n",
      " 30    1600         177.33    212.14   77.20   77.75   76.66    0.77\n",
      " 34    1800         144.28    166.14   76.35   79.18   73.72    0.76\n",
      " 37    2000         161.82    170.65   76.51   81.53   72.07    0.77\n",
      " 41    2200         165.31    141.49   78.50   79.48   77.55    0.79\n",
      " 45    2400         159.92    130.05   79.23   82.87   75.89    0.79\n",
      " 49    2600         136.20     99.16   76.43   76.97   75.89    0.76\n",
      " 52    2800          79.86     74.80   76.48   78.86   74.23    0.76\n",
      " 56    3000          80.98     77.50   75.99   77.56   74.49    0.76\n",
      " 60    3200          63.43     71.89   78.66   79.53   77.81    0.79\n",
      " 64    3400          99.32    104.08   77.99   78.70   77.30    0.78\n",
      " 67    3600          78.10     77.82   75.90   76.29   75.51    0.76\n",
      " 71    3800          74.51     69.43   76.26   82.81   70.66    0.76\n",
      " 75    4000          67.26     69.58   74.77   75.45   74.11    0.75\n",
      "\u001B[38;5;2m✔ Saved pipeline to output directory\u001B[0m\n",
      "models/foundation/model-last\n",
      "\u001B[1m\n",
      "========================= evaluate-foundation-model =========================\u001B[0m\n",
      "Running command: spacy evaluate ./models/foundation/model-best ./corpus/CyNER/test.spacy --gpu-id 0\n",
      "\u001B[38;5;4mℹ Using GPU: 0\u001B[0m\n",
      "\u001B[1m\n",
      "================================== Results ==================================\u001B[0m\n",
      "\n",
      "TOK     -    \n",
      "NER P   77.14\n",
      "NER R   71.37\n",
      "NER F   74.14\n",
      "SPEED   3600 \n",
      "\n",
      "\u001B[1m\n",
      "=============================== NER (per type) ===============================\u001B[0m\n",
      "\n",
      "                     P       R       F\n",
      "System           70.04   63.86   66.81\n",
      "Organization     71.95   44.03   54.63\n",
      "Malware          79.27   80.58   79.92\n",
      "Vulnerability   100.00   70.00   82.35\n",
      "Indicator        81.58   82.39   81.98\n",
      "\n"
     ]
    }
   ]
  }
 ],
 "metadata": {
  "kernelspec": {
   "display_name": "Python 3",
   "language": "python",
   "name": "python3"
  },
  "language_info": {
   "codemirror_mode": {
    "name": "ipython",
    "version": 2
   },
   "file_extension": ".py",
   "mimetype": "text/x-python",
   "name": "python",
   "nbconvert_exporter": "python",
   "pygments_lexer": "ipython2",
   "version": "2.7.6"
  },
  "colab": {
   "provenance": []
  },
  "accelerator": "GPU",
  "gpuClass": "standard"
 },
 "nbformat": 4,
 "nbformat_minor": 0
}